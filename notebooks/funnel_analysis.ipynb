{
 "cells": [
  {
   "cell_type": "code",
   "execution_count": null,
   "id": "a7d65f9d",
   "metadata": {
    "vscode": {
     "languageId": "plaintext"
    }
   },
   "outputs": [],
   "source": [
    "import pandas as pd\n",
    "df = pd.read_csv(\"data/events.csv\", parse_dates=[\"timestamp\"])\n",
    "\n",
    "view_sessions = df[df.event==\"view\"].session_id.nunique()\n",
    "add_sessions = df[df.event==\"add_to_cart\"].session_id.nunique()\n",
    "checkout_sessions = df[df.event==\"checkout_start\"].session_id.nunique()\n",
    "purchase_sessions = df[df.event==\"purchase\"].session_id.nunique()\n",
    "\n",
    "print(\"Sessions: views\", view_sessions, \"adds\", add_sessions, \"checkouts\", checkout_sessions, \"purchases\", purchase_sessions)\n",
    "\n",
    "conv_view_to_purchase = purchase_sessions / view_sessions\n",
    "conv_add_to_purchase = purchase_sessions / add_sessions if add_sessions else 0\n",
    "aov = df[df.event==\"purchase\"].order_value.mean()\n",
    "\n",
    "print(f\"Conversion view→purchase: {conv_view_to_purchase:.2%}\")\n",
    "print(f\"AOV: ₹{aov:.2f}\")\n"
   ]
  },
  {
   "cell_type": "code",
   "execution_count": null,
   "id": "4e810981",
   "metadata": {
    "vscode": {
     "languageId": "plaintext"
    }
   },
   "outputs": [],
   "source": [
    "def funnel_by(group_col):\n",
    "    g = df.groupby([group_col, \"event\"]).session_id.nunique().unstack(fill_value=0)\n",
    "    g[\"view_to_add\"] = g.get(\"add_to_cart\",0) / g.get(\"view\",1)\n",
    "    g[\"add_to_checkout\"] = g.get(\"checkout_start\",0) / g.get(\"add_to_cart\",1)\n",
    "    g[\"checkout_to_purchase\"] = g.get(\"purchase\",0) / g.get(\"checkout_start\",1)\n",
    "    g[\"view_to_purchase\"] = g.get(\"purchase\",0) / g.get(\"view\",1)\n",
    "    return g\n",
    "\n",
    "funnel_by(\"city_tier\")\n"
   ]
  }
 ],
 "metadata": {
  "language_info": {
   "name": "python"
  }
 },
 "nbformat": 4,
 "nbformat_minor": 5
}
